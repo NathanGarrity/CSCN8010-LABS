{
 "cells": [
  {
   "cell_type": "markdown",
   "metadata": {},
   "source": [
    "# Lab 1\n",
    "\n",
    "## Introduction\n",
    "\n",
    "### Part 1\n",
    "\n",
    "\n",
    "I think that *this* is a **correct** statement\n",
    "\n",
    "This is a <sub>1<sub> text\n",
    "\n",
    "[Click Me](https://www.google.com)\n",
    "\n",
    "![That's a logo](./GoogleLogo.jpg)\n",
    "\n",
    "\n",
    "This is a list of items I need to buy:\n",
    "\n",
    "* apples\n",
    "* oranges\n",
    "* bananas\n",
    "\n",
    "1. First item\n",
    "2. Second item\n",
    "3. Third Item\n",
    "\n",
    "This is a table:\n",
    "|Header 1|Header 2|\n",
    "|--------|--------|\n",
    "|Item 1|Item 2|\n",
    "|Item 3|Item 4|"
   ]
  },
  {
   "cell_type": "code",
   "execution_count": null,
   "metadata": {},
   "outputs": [],
   "source": [
    "x = 5\n",
    "print(x)"
   ]
  },
  {
   "cell_type": "code",
   "execution_count": null,
   "metadata": {},
   "outputs": [],
   "source": [
    "y = 7"
   ]
  },
  {
   "cell_type": "code",
   "execution_count": null,
   "metadata": {},
   "outputs": [],
   "source": [
    "print(x + y)"
   ]
  }
 ],
 "metadata": {
  "kernelspec": {
   "display_name": "Python 3",
   "language": "python",
   "name": "python3"
  },
  "language_info": {
   "name": "python",
   "version": "3.11.9"
  }
 },
 "nbformat": 4,
 "nbformat_minor": 2
}
